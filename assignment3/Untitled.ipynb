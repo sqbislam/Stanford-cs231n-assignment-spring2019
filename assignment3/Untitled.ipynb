{
 "cells": [
  {
   "cell_type": "code",
   "execution_count": 4,
   "metadata": {},
   "outputs": [],
   "source": [
    "import numpy as np"
   ]
  },
  {
   "cell_type": "code",
   "execution_count": 29,
   "metadata": {},
   "outputs": [],
   "source": [
    "N, D, H = 4, 5, 6\n",
    "x = np.random.randn(N, D)\n",
    "h = np.random.randn(N, H)\n",
    "Wx = np.random.randn(D, 4 * H)\n",
    "Wh = np.random.randn(H, 4 * H)\n",
    "b = np.random.randn(4*H,)\n",
    "\n",
    "prev_h = h"
   ]
  },
  {
   "cell_type": "code",
   "execution_count": 30,
   "metadata": {},
   "outputs": [],
   "source": [
    "H = prev_h.shape[1]\n",
    "a = np.dot(x, Wx) + np.dot(prev_h, Wh) + b\n",
    "a_i = a[:, 0*H:1*H]\n",
    "a_f = a[:, 1*H:2*H]\n",
    "a_o = a[:, 2*H:3*H]\n",
    "a_g = a[:, 3*H:4*H]\n",
    "\n",
    "#next_c = f * prev_c + i * g\n",
    "#next_h = o * np.tanh(next_c)"
   ]
  },
  {
   "cell_type": "code",
   "execution_count": 45,
   "metadata": {},
   "outputs": [
    {
     "data": {
      "text/plain": [
       "array([[ 0.76882671, -3.11297743,  3.00313473, -3.48290254, -0.61606843,\n",
       "         4.96884511],\n",
       "       [ 0.10535129, -1.52394382,  0.80036673, -1.22936643, -3.70063029,\n",
       "        -2.15257123],\n",
       "       [ 0.97893862,  0.13961074,  0.57774408,  1.07226191, -0.72209988,\n",
       "        -3.62283864],\n",
       "       [ 2.50345633,  1.80715317, -3.58430381,  3.52521412, -5.09188942,\n",
       "        -7.72930223]])"
      ]
     },
     "execution_count": 45,
     "metadata": {},
     "output_type": "execute_result"
    }
   ],
   "source": [
    "a_i"
   ]
  },
  {
   "cell_type": "code",
   "execution_count": null,
   "metadata": {},
   "outputs": [],
   "source": []
  }
 ],
 "metadata": {
  "kernelspec": {
   "display_name": "Python 3",
   "language": "python",
   "name": "python3"
  },
  "language_info": {
   "codemirror_mode": {
    "name": "ipython",
    "version": 3
   },
   "file_extension": ".py",
   "mimetype": "text/x-python",
   "name": "python",
   "nbconvert_exporter": "python",
   "pygments_lexer": "ipython3",
   "version": "3.7.3"
  }
 },
 "nbformat": 4,
 "nbformat_minor": 2
}
